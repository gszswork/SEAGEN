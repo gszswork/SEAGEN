{
 "cells": [
  {
   "cell_type": "code",
   "execution_count": 1,
   "id": "8df752b4",
   "metadata": {},
   "outputs": [],
   "source": [
    "import numpy as np\n"
   ]
  },
  {
   "cell_type": "code",
   "execution_count": 3,
   "id": "5d46c9f6",
   "metadata": {},
   "outputs": [
    {
     "name": "stdout",
     "output_type": "stream",
     "text": [
      "834 3334\n"
     ]
    }
   ],
   "source": [
    "fold0_test = np.load('fold0_x_test.npy')\n",
    "fold0_train = np.load('fold0_x_train.npy')\n",
    "print(len(fold0_test), len(fold0_train))"
   ]
  },
  {
   "cell_type": "code",
   "execution_count": 6,
   "id": "d68c9df4",
   "metadata": {},
   "outputs": [
    {
     "name": "stdout",
     "output_type": "stream",
     "text": [
      "4168\n"
     ]
    }
   ],
   "source": [
    "whole_dataset = [*fold0_test, *fold0_train]\n",
    "print(len(whole_dataset))"
   ]
  },
  {
   "cell_type": "code",
   "execution_count": 11,
   "id": "fb553742",
   "metadata": {},
   "outputs": [],
   "source": [
    "length = len(whole_dataset)\n",
    "fold0_idx = int(0.2 * length)\n",
    "fold1_idx = int(0.4 * length)\n",
    "fold2_idx = int(0.6 * length)\n",
    "fold3_idx = int(0.8 * length)\n",
    "fold4_idx = int(length)\n",
    "\n"
   ]
  },
  {
   "cell_type": "code",
   "execution_count": 9,
   "id": "76bb6385",
   "metadata": {},
   "outputs": [
    {
     "name": "stdout",
     "output_type": "stream",
     "text": [
      "833 3335\n"
     ]
    }
   ],
   "source": [
    "fold0_test = whole_dataset[0: fold0_idx]\n",
    "fold0_train = whole_dataset[fold0_idx:]\n",
    "\n",
    "print(len(fold0_test), len(fold0_train))"
   ]
  },
  {
   "cell_type": "code",
   "execution_count": 14,
   "id": "a8a724c2",
   "metadata": {},
   "outputs": [
    {
     "name": "stdout",
     "output_type": "stream",
     "text": [
      "834 3334\n"
     ]
    }
   ],
   "source": [
    "fold1_test = whole_dataset[fold0_idx:fold1_idx]\n",
    "fold1_train = whole_dataset[0:fold0_idx] + whole_dataset[fold1_idx:]\n",
    "print(len(fold1_test), len(fold1_train))"
   ]
  },
  {
   "cell_type": "code",
   "execution_count": 16,
   "id": "e125cbcd",
   "metadata": {},
   "outputs": [
    {
     "name": "stdout",
     "output_type": "stream",
     "text": [
      "833 3335\n"
     ]
    }
   ],
   "source": [
    "fold2_test = whole_dataset[fold1_idx: fold2_idx]\n",
    "fold2_train = whole_dataset[0:fold1_idx] + whole_dataset[fold2_idx:]\n",
    "print(len(fold2_test), len(fold2_train))"
   ]
  },
  {
   "cell_type": "code",
   "execution_count": 18,
   "id": "ab59b985",
   "metadata": {},
   "outputs": [
    {
     "name": "stdout",
     "output_type": "stream",
     "text": [
      "834 3334\n"
     ]
    }
   ],
   "source": [
    "fold3_test = whole_dataset[fold2_idx:fold3_idx]\n",
    "fold3_train = whole_dataset[0:fold2_idx] + whole_dataset[fold3_idx:]\n",
    "print(len(fold3_test), len(fold3_train))"
   ]
  },
  {
   "cell_type": "code",
   "execution_count": 20,
   "id": "db943023",
   "metadata": {},
   "outputs": [
    {
     "name": "stdout",
     "output_type": "stream",
     "text": [
      "834 3334\n"
     ]
    }
   ],
   "source": [
    "fold4_test = whole_dataset[fold3_idx:]\n",
    "fold4_train = whole_dataset[0:fold3_idx]\n",
    "print(len(fold4_test), len(fold4_train))"
   ]
  },
  {
   "cell_type": "code",
   "execution_count": null,
   "id": "6758b69c",
   "metadata": {},
   "outputs": [],
   "source": [
    "np.save('fold0_x_test.npy', fold0_test)\n",
    "np.save('fold0_x_train.npy', fold0_train)\n",
    "\n",
    "np.save('fold1_x_test.npy', fold1_test)\n",
    "np.save('fold1_x_train.npy', fold1_train)\n",
    "\n",
    "np.save('fold2_x_test.npy', fold2_test)\n",
    "np.save('fold2_x_train.npy', fold2_train)\n",
    "\n",
    "np.save('fold3_x_test.npy', fold3_test)\n",
    "np.save('fold3_x_train.npy', fold3_train)"
   ]
  }
 ],
 "metadata": {
  "kernelspec": {
   "display_name": "Python 3",
   "language": "python",
   "name": "python3"
  },
  "language_info": {
   "codemirror_mode": {
    "name": "ipython",
    "version": 3
   },
   "file_extension": ".py",
   "mimetype": "text/x-python",
   "name": "python",
   "nbconvert_exporter": "python",
   "pygments_lexer": "ipython3",
   "version": "3.8.0"
  }
 },
 "nbformat": 4,
 "nbformat_minor": 5
}
